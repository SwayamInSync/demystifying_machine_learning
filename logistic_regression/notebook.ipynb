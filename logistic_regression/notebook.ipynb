{
 "cells": [
  {
   "cell_type": "code",
   "execution_count": 148,
   "metadata": {},
   "outputs": [],
   "source": [
    "import numpy as np\n",
    "import matplotlib.pyplot as plt\n",
    "from scipy import optimize\n",
    "import utils\n",
    "%matplotlib inline"
   ]
  },
  {
   "cell_type": "code",
   "execution_count": 149,
   "metadata": {},
   "outputs": [],
   "source": [
    "def plotData(X, y, preds=None,draw_line=False):\n",
    "    fig = plt.figure()\n",
    "    plt.plot(X[y==1, 0], X[y==1, 1], 'k*', lw=2, ms=10)\n",
    "    plt.plot(X[y==0,0], X[y==0, 1], 'ko', mfc='y', ms=8, mec='k', mew=1)\n",
    "    if draw_line:\n",
    "        x = np.linspace(0,200,100)\n",
    "        plt.plot(x,preds)\n",
    "    plt.show()"
   ]
  },
  {
   "cell_type": "code",
   "execution_count": 150,
   "metadata": {},
   "outputs": [],
   "source": [
    "data1 = np.loadtxt(\"./data/data1.txt\", delimiter=\",\")\n",
    "data2 = np.loadtxt(\"./data/data2.txt\", delimiter=\",\")"
   ]
  },
  {
   "cell_type": "code",
   "execution_count": 154,
   "metadata": {},
   "outputs": [],
   "source": [
    "class LogisticRegression:\n",
    "    def __init__(self) -> None:\n",
    "        self.X = None\n",
    "        self.Y = None\n",
    "        self.parameters = None\n",
    "        self.cost_history = []\n",
    "        self.mu = None\n",
    "        self.sigma = None\n",
    "    \n",
    "    def sigmoid(self, x):\n",
    "        z = np.array(x)\n",
    "    \n",
    "        g = np.zeros(z.shape)\n",
    "\n",
    "        g = 1/(1 + np.exp(-z) ) \n",
    "\n",
    "        return g\n",
    "\n",
    "    def calculate_cost(self):\n",
    "        \"\"\"\n",
    "        Returns the cost and gradients.\n",
    "        parameters: None\n",
    "        \n",
    "        Returns:\n",
    "            cost : Caculated loss (scalar).\n",
    "            gradients: array containing the gradients w.r.t each parameter\n",
    "\n",
    "        \"\"\"\n",
    "\n",
    "        m = self.X.shape[0]\n",
    "\n",
    "        z = np.dot(self.X, self.parameters)\n",
    "        z = z.reshape(-1)\n",
    "        z = z.astype(np.float128, copy=False)\n",
    "        y_hat = self.sigmoid(z)\n",
    "        # print(np.sum(y_hat))\n",
    "        cost = -1 * np.mean(self.Y*(np.log(y_hat)) + (1-self.Y)*(np.log(1-y_hat)))\n",
    "\n",
    "        gradients = np.zeros(self.X.shape[1])\n",
    "\n",
    "        # error = y_hat - self.Y\n",
    "\n",
    "        # for i in range(self.X.shape[1]):\n",
    "        #     gradients[i] = np.mean(error * self.X[:,i])\n",
    "\n",
    "        for n in range(len(self.parameters)):\n",
    "            temp = np.mean((y_hat-self.Y)*self.X[:,n])\n",
    "            gradients[n] = temp\n",
    "\n",
    "        # gradients = np.dot(self.X.T, error)/m\n",
    "\n",
    "        return cost, gradients\n",
    "\n",
    "\n",
    "    def init_parameters(self):\n",
    "        \"\"\"\n",
    "        Initialize the parameters as array of 0s\n",
    "        parameters: None\n",
    "        \n",
    "        Returns:None\n",
    "\n",
    "        \"\"\"\n",
    "        self.parameters = np.zeros((self.X.shape[1],1))\n",
    "\n",
    "\n",
    "    def feature_normalize(self, X):\n",
    "        \"\"\"\n",
    "        Normalize the samples.\n",
    "        parameters: \n",
    "            X : input/feature matrix\n",
    "        \n",
    "        Returns:\n",
    "            X_norm : Normalized X.\n",
    "\n",
    "        \"\"\"\n",
    "        X_norm = X.copy()\n",
    "        mu = np.mean(X, axis=0)\n",
    "        sigma = np.std(X, axis=0)\n",
    "\n",
    "        self.mu = mu\n",
    "        self.sigma = sigma\n",
    "\n",
    "        for n in range(X.shape[1]):\n",
    "            X_norm[:,n] = (X_norm[:,n] - mu[n]) / sigma[n]\n",
    "        return X_norm\n",
    "\n",
    "    def fit(self, x, y, learning_rate=0.01, epochs=500, is_normalize=True, verbose=0):\n",
    "        \"\"\"\n",
    "        Iterates and find the optimal parameters for input dataset\n",
    "        parameters: \n",
    "            x : input/feature matrix\n",
    "            y : target matrix\n",
    "            learning_rate: between 0 and 1 (default is 0.01)\n",
    "            epochs: number of iterations (default is 500)\n",
    "            is_normalize: boolean, for normalizing features (default is True)\n",
    "            verbose: iterations after to print cost\n",
    "        \n",
    "        Returns:\n",
    "            parameters : Array of optimal value of weights.\n",
    "\n",
    "        \"\"\"\n",
    "        self.X = x\n",
    "        self.Y = y\n",
    "        self.cost_history = []\n",
    "        if self.X.ndim == 1: # adding extra dimension, if X is a 1-D array\n",
    "            self.X = self.X.reshape(-1,1)\n",
    "            is_normalize = False\n",
    "        if is_normalize:\n",
    "            self.X = self.feature_normalize(self.X)\n",
    "        self.X = np.concatenate([np.ones((self.X.shape[0],1)), self.X], axis=1)\n",
    "        print(self.X.shape)\n",
    "        self.init_parameters()\n",
    "\n",
    "        for i in range(epochs):\n",
    "            cost, gradients = self.calculate_cost()\n",
    "            self.cost_history.append(cost)\n",
    "            self.parameters -= learning_rate * gradients.reshape(-1,1)\n",
    "\n",
    "            if verbose:\n",
    "                if not (i % verbose):\n",
    "                    print(f\"Cost after {i} epochs: {cost}\")\n",
    "        return self.parameters\n",
    "\n",
    "\n",
    "    def predict(self,x, is_normalize=True):\n",
    "        \"\"\"\n",
    "        Returns the predictions after fitting.\n",
    "        parameters: \n",
    "            x : input/feature matrix\n",
    "        \n",
    "        Returns:\n",
    "            predictions : Array of predicted target values.\n",
    "\n",
    "        \"\"\"\n",
    "        x = np.array(x, dtype=np.float64) # converting list to numpy array\n",
    "        if x.ndim == 1:\n",
    "            x = x.reshape(1,-1)\n",
    "        if is_normalize:\n",
    "            for n in range(x.shape[1]):\n",
    "                x[:,n] = (x[:,n] - self.mu[n]) / self.sigma[n]\n",
    "        x = np.concatenate([np.ones((x.shape[0],1)), x], axis=1)\n",
    "        return [1 if i > 0.5 else 0  for i in self.sigmoid(np.dot(x,self.parameters))]"
   ]
  },
  {
   "cell_type": "code",
   "execution_count": 155,
   "metadata": {},
   "outputs": [],
   "source": [
    "model = LogisticRegression()"
   ]
  },
  {
   "cell_type": "code",
   "execution_count": 156,
   "metadata": {},
   "outputs": [
    {
     "name": "stdout",
     "output_type": "stream",
     "text": [
      "(118, 2) (118,)\n"
     ]
    }
   ],
   "source": [
    "X = data2[:,:2]\n",
    "Y = data2[:,2]\n",
    "print(X.shape, Y.shape)"
   ]
  },
  {
   "cell_type": "code",
   "execution_count": 157,
   "metadata": {},
   "outputs": [
    {
     "data": {
      "text/plain": [
       "(118, 28)"
      ]
     },
     "execution_count": 157,
     "metadata": {},
     "output_type": "execute_result"
    }
   ],
   "source": [
    "X = utils.mapFeature(X[:,0],X[:,1])\n",
    "X.shape"
   ]
  },
  {
   "cell_type": "code",
   "execution_count": 170,
   "metadata": {},
   "outputs": [
    {
     "name": "stdout",
     "output_type": "stream",
     "text": [
      "(118, 28)\n"
     ]
    }
   ],
   "source": [
    "params = model.fit(X[:,1:],Y, epochs=10000, is_normalize=False)"
   ]
  },
  {
   "cell_type": "code",
   "execution_count": 171,
   "metadata": {},
   "outputs": [
    {
     "data": {
      "text/plain": [
       "[<matplotlib.lines.Line2D at 0x7f8830ac5070>]"
      ]
     },
     "execution_count": 171,
     "metadata": {},
     "output_type": "execute_result"
    },
    {
     "data": {
      "image/png": "[encoded data removed]",
      "text/plain": [
       "<Figure size 432x288 with 1 Axes>"
      ]
     },
     "metadata": {
      "needs_background": "light"
     },
     "output_type": "display_data"
    }
   ],
   "source": [
    "plt.plot(np.array(list(range(10000))), model.cost_history)"
   ]
  },
  {
   "cell_type": "code",
   "execution_count": 172,
   "metadata": {},
   "outputs": [
    {
     "data": {
      "text/plain": [
       "0.8305084745762712"
      ]
     },
     "execution_count": 172,
     "metadata": {},
     "output_type": "execute_result"
    }
   ],
   "source": [
    "preds = model.predict(X[:,1:], is_normalize=False)\n",
    "sum(preds == Y)/len(Y)"
   ]
  },
  {
   "cell_type": "code",
   "execution_count": 173,
   "metadata": {},
   "outputs": [
    {
     "name": "stderr",
     "output_type": "stream",
     "text": [
      "/Users/swayam/Desktop/demystifying_machine_learning/logistic_regression/utils.py:45: VisibleDeprecationWarning: Creating an ndarray from ragged nested sequences (which is a list-or-tuple of lists-or-tuples-or ndarrays with different lengths or shapes) is deprecated. If you meant to do this, you must specify 'dtype=object' when creating the ndarray.\n",
      "  return np.array(out)\n"
     ]
    },
    {
     "data": {
      "text/plain": [
       "<function matplotlib.pyplot.show(close=None, block=None)>"
      ]
     },
     "execution_count": 173,
     "metadata": {},
     "output_type": "execute_result"
    },
    {
     "data": {
      "image/png": "[encoded data removed]",
      "text/plain": [
       "<Figure size 432x288 with 1 Axes>"
      ]
     },
     "metadata": {
      "needs_background": "light"
     },
     "output_type": "display_data"
    }
   ],
   "source": [
    "# make sure theta is a numpy array\n",
    "from matplotlib import pyplot\n",
    "\n",
    "theta = params\n",
    "y = Y.copy()\n",
    "\n",
    "# Plot Data (remember first column in X is the intercept)\n",
    "# plotData(X[:, 1:3], y)\n",
    "if X.shape[1] <= 3: \n",
    "    # Only need 2 points to define a line, so choose two endpoints\n",
    "    plot_x = np.array([np.min(X[:, 1]) - 2, np.max(X[:, 1]) + 2])\n",
    "\n",
    "        # Calculate the decision boundary line\n",
    "    plot_y = (-1. / theta[2]) * (theta[1] * plot_x + theta[0])\n",
    "\n",
    "        # Plot, and adjust axes for better viewing\n",
    "    fig = pyplot.figure()\n",
    "    pyplot.plot(X[:, 1:3][y==1, 0], X[:, 1:3][y==1, 1], 'k*', lw=2, ms=10)\n",
    "    pyplot.plot(X[:, 1:3][y==0,0], X[:, 1:3][y==0, 1], 'ko', mfc='y', ms=8, mec='k', mew=1)\n",
    "    pyplot.plot(plot_x, plot_y)\n",
    "\n",
    "        # Legend, specific for the exercise\n",
    "    pyplot.legend(['Admitted', 'Not admitted', 'Decision Boundary'])\n",
    "    pyplot.xlim([30, 100])\n",
    "    pyplot.ylim([30, 100])\n",
    "\n",
    "else:\n",
    "        # Here is the grid range\n",
    "    u = np.linspace(-1, 1.5, 50)\n",
    "    v = np.linspace(-1, 1.5, 50)\n",
    "\n",
    "    z = np.zeros((u.size, v.size))\n",
    "        # Evaluate z = theta*x over the grid\n",
    "    for i, ui in enumerate(u):\n",
    "        for j, vj in enumerate(v):\n",
    "            z[i, j] = np.dot(utils.mapFeature(ui, vj), theta)\n",
    "\n",
    "    z = z.T  # important to transpose z before calling contour\n",
    "        # print(z)\n",
    "\n",
    "        # Plot z = 0\n",
    "    fig = pyplot.figure()\n",
    "    pyplot.plot(X[:, 1:3][y==1, 0], X[:, 1:3][y==1, 1], 'k*', lw=2, ms=10)\n",
    "    pyplot.plot(X[:, 1:3][y==0,0], X[:, 1:3][y==0, 1], 'ko', mfc='y', ms=8, mec='k', mew=1)\n",
    "    pyplot.contour(u, v, z, levels=[0], linewidths=2, colors='g')\n",
    "    pyplot.contourf(u, v, z, levels=[np.min(z), 0, np.max(z)], cmap='Greens', alpha=0.4)\n",
    "\n",
    "pyplot.show"
   ]
  },
  {
   "cell_type": "code",
   "execution_count": 161,
   "metadata": {},
   "outputs": [],
   "source": [
    "def sigmoid(z):\n",
    "    \"\"\"\n",
    "    Compute sigmoid function given the input z.\n",
    "    \n",
    "    Parameters\n",
    "    ----------\n",
    "    z : array_like\n",
    "        The input to the sigmoid function. This can be a 1-D vector \n",
    "        or a 2-D matrix. \n",
    "    \n",
    "    Returns\n",
    "    -------\n",
    "    g : array_like\n",
    "        The computed sigmoid function. g has the same shape as z, since\n",
    "        the sigmoid is computed element-wise on z.\n",
    "        \n",
    "    \"\"\"\n",
    "\n",
    "    z = np.array(z)\n",
    "    \n",
    "    g = np.zeros(z.shape)\n",
    "\n",
    "    g = 1/(1 + np.exp(-z))    \n",
    "\n",
    "    return g"
   ]
  },
  {
   "cell_type": "code",
   "execution_count": 162,
   "metadata": {},
   "outputs": [],
   "source": [
    "def costFunction(theta, X, y):\n",
    "    \"\"\"\n",
    "    Compute cost and gradient for logistic regression. \n",
    "    \n",
    "    Parameters\n",
    "    ----------\n",
    "    theta : array_like\n",
    "        The parameters for logistic regression. This a vector\n",
    "        of shape (n+1, ).\n",
    "    \n",
    "    X : array_like\n",
    "        The input dataset of shape (m x n+1) where m is the total number\n",
    "        of data points and n is the number of features. We assume the \n",
    "        intercept has already been added to the input.\n",
    "    \n",
    "    y : arra_like\n",
    "        Labels for the input. This is a vector of shape (m, ).\n",
    "    \n",
    "    Returns\n",
    "    -------\n",
    "    J : float\n",
    "        The computed value for the cost function. \n",
    "    \n",
    "    grad : array_like\n",
    "        A vector of shape (n+1, ) which is the gradient of the cost\n",
    "        function with respect to theta, at the current values of theta.\n",
    "        \n",
    "    \"\"\"\n",
    "    m = y.size  # number of training examples\n",
    "\n",
    "    J = 0\n",
    "    grad = np.zeros(theta.shape)\n",
    "\n",
    "    \n",
    "    z = theta.dot(X.T)\n",
    "    h_x = sigmoid(z) # calculating hypothesis (h(x))\n",
    "    J = -1 * np.mean(y*(np.log(h_x)) + (1-y)*(np.log(1-h_x)))\n",
    "\n",
    "    for n in range(len(theta)):\n",
    "        temp = np.mean((h_x-y)*X[:,n])\n",
    "        grad[n] = temp\n",
    "    \n",
    "    return J, grad"
   ]
  },
  {
   "cell_type": "code",
   "execution_count": 163,
   "metadata": {},
   "outputs": [
    {
     "name": "stdout",
     "output_type": "stream",
     "text": [
      "theta:\n",
      "[  10.92027345   14.41391834    7.88894898 -110.40678327  -60.42008079\n",
      "  -37.95687737 -114.01965814 -111.99006425  -53.43041923   -1.52249018\n",
      "  394.07166451  365.76145912  440.85613847  196.55506339   39.68952515\n",
      "  206.07889741  326.45600885  367.58929579  219.80400101   66.69281066\n",
      "   -3.45105098 -468.76307498 -640.56432545 -905.67014421 -687.59858489\n",
      " -602.68613342 -237.83544253  -23.43941239]\n"
     ]
    }
   ],
   "source": [
    "\n",
    "options= {'maxiter': 400}\n",
    "initial_theta = np.zeros(X.shape[1])\n",
    "res = optimize.minimize(costFunction,\n",
    "                        initial_theta,\n",
    "                        (X, Y),\n",
    "                        jac=True,\n",
    "                        method='TNC',\n",
    "                        options=options)\n",
    "\n",
    "cost = res.fun\n",
    "\n",
    "theta = res.x\n",
    "\n",
    "print('theta:')\n",
    "print(theta)"
   ]
  },
  {
   "cell_type": "markdown",
   "metadata": {},
   "source": [
    "## Regularized Logistic Regression"
   ]
  },
  {
   "cell_type": "code",
   "execution_count": 164,
   "metadata": {},
   "outputs": [],
   "source": [
    "class RegLogisticRegression:\n",
    "    def __init__(self) -> None:\n",
    "        self.X = None\n",
    "        self.Y = None\n",
    "        self.parameters = None\n",
    "        self.cost_history = []\n",
    "        self.mu = None\n",
    "        self.sigma = None\n",
    "    \n",
    "    def sigmoid(self, x):\n",
    "        z = np.array(x)\n",
    "    \n",
    "        g = np.zeros(z.shape)\n",
    "\n",
    "        g = 1/(1 + np.exp(-z) ) \n",
    "\n",
    "        return g\n",
    "\n",
    "    def sigmoid_derivative(self, x):\n",
    "        derivative = self.sigmoid(x) * (1 - self.sigmoid(x))\n",
    "        return derivative\n",
    "\n",
    "    def calculate_cost(self, lambda_):\n",
    "        \"\"\"\n",
    "        Returns the cost and gradients.\n",
    "        parameters: None\n",
    "        \n",
    "        Returns:\n",
    "            cost : Caculated loss (scalar).\n",
    "            gradients: array containing the gradients w.r.t each parameter\n",
    "\n",
    "        \"\"\"\n",
    "\n",
    "        m = self.X.shape[0]\n",
    "\n",
    "        z = np.dot(self.X, self.parameters)\n",
    "        z = z.reshape(-1)\n",
    "        z = z.astype(np.float128, copy=False)\n",
    "        y_hat = self.sigmoid(z)\n",
    "        cost = -1 * np.mean(self.Y*(np.log(y_hat)) + (1-self.Y)*(np.log(1-y_hat))) + lambda_ * (np.sum(self.parameters[1:]**2))/(2*m)\n",
    "\n",
    "        gradients = np.zeros(self.X.shape[1])\n",
    "\n",
    "        for n in range(len(self.parameters)):\n",
    "            if n == 0:\n",
    "                temp = np.mean((y_hat-self.Y)*self.X[:,n])\n",
    "            else:\n",
    "                temp = np.mean((y_hat-self.Y)*self.X[:,n]) + lambda_*self.parameters[n]/m\n",
    "            gradients[n] = temp\n",
    "\n",
    "        # gradients = np.dot(self.X.T, error)/m\n",
    "\n",
    "        return cost, gradients\n",
    "\n",
    "\n",
    "    def init_parameters(self):\n",
    "        \"\"\"\n",
    "        Initialize the parameters as array of 0s\n",
    "        parameters: None\n",
    "        \n",
    "        Returns:None\n",
    "\n",
    "        \"\"\"\n",
    "        self.parameters = np.zeros((self.X.shape[1],1))\n",
    "\n",
    "\n",
    "    def feature_normalize(self, X):\n",
    "        \"\"\"\n",
    "        Normalize the samples.\n",
    "        parameters: \n",
    "            X : input/feature matrix\n",
    "        \n",
    "        Returns:\n",
    "            X_norm : Normalized X.\n",
    "\n",
    "        \"\"\"\n",
    "        X_norm = X.copy()\n",
    "        mu = np.mean(X, axis=0)\n",
    "        sigma = np.std(X, axis=0)\n",
    "\n",
    "        self.mu = mu\n",
    "        self.sigma = sigma\n",
    "\n",
    "        for n in range(X.shape[1]):\n",
    "            X_norm[:,n] = (X_norm[:,n] - mu[n]) / sigma[n]\n",
    "        return X_norm\n",
    "\n",
    "    def fit(self, x, y, learning_rate=0.01, epochs=500, lambda_=0,is_normalize=True, verbose=0):\n",
    "        \"\"\"\n",
    "        Iterates and find the optimal parameters for input dataset\n",
    "        parameters: \n",
    "            x : input/feature matrix\n",
    "            y : target matrix\n",
    "            learning_rate: between 0 and 1 (default is 0.01)\n",
    "            epochs: number of iterations (default is 500)\n",
    "            is_normalize: boolean, for normalizing features (default is True)\n",
    "            verbose: iterations after to print cost\n",
    "        \n",
    "        Returns:\n",
    "            parameters : Array of optimal value of weights.\n",
    "\n",
    "        \"\"\"\n",
    "        self.X = x\n",
    "        self.Y = y\n",
    "        self.cost_history = []\n",
    "        if self.X.ndim == 1: # adding extra dimension, if X is a 1-D array\n",
    "            self.X = self.X.reshape(-1,1)\n",
    "            is_normalize = False\n",
    "        if is_normalize:\n",
    "            self.X = self.feature_normalize(self.X)\n",
    "        self.X = np.concatenate([np.ones((self.X.shape[0],1)), self.X], axis=1)\n",
    "        print(self.X.shape)\n",
    "        self.init_parameters()\n",
    "\n",
    "        for i in range(epochs):\n",
    "            cost, gradients = self.calculate_cost(lambda_=lambda_)\n",
    "            self.cost_history.append(cost)\n",
    "            self.parameters -= learning_rate * gradients.reshape(-1,1)\n",
    "\n",
    "            if verbose:\n",
    "                if not (i % verbose):\n",
    "                    print(f\"Cost after {i} epochs: {cost}\")\n",
    "        return self.parameters\n",
    "\n",
    "\n",
    "    def predict(self,x, is_normalize=True):\n",
    "        \"\"\"\n",
    "        Returns the predictions after fitting.\n",
    "        parameters: \n",
    "            x : input/feature matrix\n",
    "        \n",
    "        Returns:\n",
    "            predictions : Array of predicted target values.\n",
    "\n",
    "        \"\"\"\n",
    "        x = np.array(x, dtype=np.float64) # converting list to numpy array\n",
    "        if x.ndim == 1:\n",
    "            x = x.reshape(1,-1)\n",
    "        if is_normalize:\n",
    "            for n in range(x.shape[1]):\n",
    "                x[:,n] = (x[:,n] - self.mu[n]) / self.sigma[n]\n",
    "        x = np.concatenate([np.ones((x.shape[0],1)), x], axis=1)\n",
    "        return [1 if i > 0.5 else 0  for i in self.sigmoid(np.dot(x,self.parameters))]"
   ]
  },
  {
   "cell_type": "code",
   "execution_count": 165,
   "metadata": {},
   "outputs": [],
   "source": [
    "model2 = RegLogisticRegression()"
   ]
  },
  {
   "cell_type": "code",
   "execution_count": 167,
   "metadata": {},
   "outputs": [
    {
     "name": "stdout",
     "output_type": "stream",
     "text": [
      "(118, 28)\n"
     ]
    }
   ],
   "source": [
    "params1 = model2.fit(X[:,1:],Y,epochs=10000, lambda_=1,is_normalize=False)"
   ]
  },
  {
   "cell_type": "code",
   "execution_count": 168,
   "metadata": {},
   "outputs": [
    {
     "data": {
      "text/plain": [
       "0.8305084745762712"
      ]
     },
     "execution_count": 168,
     "metadata": {},
     "output_type": "execute_result"
    }
   ],
   "source": [
    "preds = model2.predict(X[:,1:], is_normalize=False)\n",
    "sum(preds == Y)/len(Y)"
   ]
  },
  {
   "cell_type": "code",
   "execution_count": 169,
   "metadata": {},
   "outputs": [
    {
     "name": "stderr",
     "output_type": "stream",
     "text": [
      "/Users/swayam/Desktop/demystifying_machine_learning/logistic_regression/utils.py:45: VisibleDeprecationWarning: Creating an ndarray from ragged nested sequences (which is a list-or-tuple of lists-or-tuples-or ndarrays with different lengths or shapes) is deprecated. If you meant to do this, you must specify 'dtype=object' when creating the ndarray.\n",
      "  return np.array(out)\n"
     ]
    },
    {
     "data": {
      "text/plain": [
       "<function matplotlib.pyplot.show(close=None, block=None)>"
      ]
     },
     "execution_count": 169,
     "metadata": {},
     "output_type": "execute_result"
    },
    {
     "data": {
      "image/png": "[encoded data removed]",
      "text/plain": [
       "<Figure size 432x288 with 1 Axes>"
      ]
     },
     "metadata": {
      "needs_background": "light"
     },
     "output_type": "display_data"
    }
   ],
   "source": [
    "# make sure theta is a numpy array\n",
    "from matplotlib import pyplot\n",
    "\n",
    "theta = params1\n",
    "y = Y.copy()\n",
    "\n",
    "# Plot Data (remember first column in X is the intercept)\n",
    "# plotData(X[:, 1:3], y)\n",
    "if X.shape[1] <= 3: \n",
    "    # Only need 2 points to define a line, so choose two endpoints\n",
    "    plot_x = np.array([np.min(X[:, 1]) - 2, np.max(X[:, 1]) + 2])\n",
    "\n",
    "        # Calculate the decision boundary line\n",
    "    plot_y = (-1. / theta[2]) * (theta[1] * plot_x + theta[0])\n",
    "\n",
    "        # Plot, and adjust axes for better viewing\n",
    "    fig = pyplot.figure()\n",
    "    pyplot.plot(X[:, 1:3][y==1, 0], X[:, 1:3][y==1, 1], 'k*', lw=2, ms=10)\n",
    "    pyplot.plot(X[:, 1:3][y==0,0], X[:, 1:3][y==0, 1], 'ko', mfc='y', ms=8, mec='k', mew=1)\n",
    "    pyplot.plot(plot_x, plot_y)\n",
    "\n",
    "        # Legend, specific for the exercise\n",
    "    pyplot.legend(['Admitted', 'Not admitted', 'Decision Boundary'])\n",
    "    pyplot.xlim([30, 100])\n",
    "    pyplot.ylim([30, 100])\n",
    "\n",
    "else:\n",
    "        # Here is the grid range\n",
    "    u = np.linspace(-1, 1.5, 50)\n",
    "    v = np.linspace(-1, 1.5, 50)\n",
    "\n",
    "    z = np.zeros((u.size, v.size))\n",
    "        # Evaluate z = theta*x over the grid\n",
    "    for i, ui in enumerate(u):\n",
    "        for j, vj in enumerate(v):\n",
    "            z[i, j] = np.dot(utils.mapFeature(ui, vj), theta)\n",
    "\n",
    "    z = z.T  # important to transpose z before calling contour\n",
    "        # print(z)\n",
    "\n",
    "        # Plot z = 0\n",
    "    fig = pyplot.figure()\n",
    "    pyplot.plot(X[:, 1:3][y==1, 0], X[:, 1:3][y==1, 1], 'k*', lw=2, ms=10)\n",
    "    pyplot.plot(X[:, 1:3][y==0,0], X[:, 1:3][y==0, 1], 'ko', mfc='y', ms=8, mec='k', mew=1)\n",
    "    pyplot.contour(u, v, z, levels=[0], linewidths=2, colors='g')\n",
    "    pyplot.contourf(u, v, z, levels=[np.min(z), 0, np.max(z)], cmap='Greens', alpha=0.4)\n",
    "\n",
    "pyplot.show"
   ]
  }
 ],
 "metadata": {
  "interpreter": {
   "hash": "3ef0294c223172e32866717fd7516ab442fa971acd83346bed3b9ff9315f4006"
  },
  "kernelspec": {
   "display_name": "Python 3.8.10 64-bit ('venv': venv)",
   "language": "python",
   "name": "python3"
  },
  "language_info": {
   "codemirror_mode": {
    "name": "ipython",
    "version": 3
   },
   "file_extension": ".py",
   "mimetype": "text/x-python",
   "name": "python",
   "nbconvert_exporter": "python",
   "pygments_lexer": "ipython3",
   "version": "3.8.10"
  },
  "orig_nbformat": 4
 },
 "nbformat": 4,
 "nbformat_minor": 2
}
